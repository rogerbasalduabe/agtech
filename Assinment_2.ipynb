{
 "cells": [
  {
   "cell_type": "markdown",
   "metadata": {},
   "source": [
    "# Assignment 2"
   ]
  },
  {
   "cell_type": "markdown",
   "metadata": {},
   "source": [
    "**Please follow the instructions. Do not add new cell! Write your code in designated areas.**"
   ]
  },
  {
   "cell_type": "code",
   "execution_count": 2,
   "metadata": {},
   "outputs": [
    {
     "name": "stdout",
     "output_type": "stream",
     "text": [
      "Assignment 1 & 2: Solutions by Roger B.\n",
      "Local Time: 2024-02-09 16:22:23\n",
      "Computer ID: Rogerbas\n"
     ]
    }
   ],
   "source": [
    "import datetime\n",
    "import socket\n",
    "\n",
    "# Get local time\n",
    "local_time = datetime.datetime.now().strftime(\"%Y-%m-%d %H:%M:%S\")\n",
    "\n",
    "# Get computer ID or hostname\n",
    "computer_id = socket.gethostname()\n",
    "\n",
    "# Print output with local time and computer ID\n",
    "print('Assignment 1 & 2: Solutions by Roger B.') # Please change your name here\n",
    "print('Local Time:', local_time)\n",
    "print('Computer ID:', computer_id)"
   ]
  },
  {
   "cell_type": "markdown",
   "metadata": {},
   "source": [
    "## NumPy"
   ]
  },
  {
   "cell_type": "markdown",
   "metadata": {},
   "source": [
    "1. Create a 2D numpy array of size 4x5 with random integers between 1 and 10. Find the maximum value of the entire array. \n"
   ]
  },
  {
   "cell_type": "code",
   "execution_count": 3,
   "metadata": {},
   "outputs": [
    {
     "name": "stdout",
     "output_type": "stream",
     "text": [
      "2D Array:\n",
      "[[ 3  3  8  5  8]\n",
      " [ 3  5  9  3  9]\n",
      " [ 6  2  3  6  2]\n",
      " [ 7  1 10  2 10]]\n",
      "\n",
      "Maximum value of the entire array: 10\n"
     ]
    }
   ],
   "source": [
    "import numpy as np\n",
    "\n",
    "# Create a 2D NumPy array of size 4x5 with random integers between 1 and 10\n",
    "array2d = np.random.randint(1, 11, size=(4, 5))\n",
    "\n",
    "print(\"2D Array:\")\n",
    "print(array2d)\n",
    "\n",
    "# Find the maximum value of the entire array\n",
    "maxValue = np.max(array2d)\n",
    "\n",
    "print(\"\\nMaximum value of the entire array:\", maxValue)"
   ]
  },
  {
   "cell_type": "markdown",
   "metadata": {},
   "source": [
    "2. Create a 1D numpy array of size 20 with random floats between 0 and 1. Reshape the array into a 4x5 matrix. Compute the mean of each row."
   ]
  },
  {
   "cell_type": "code",
   "execution_count": 5,
   "metadata": {},
   "outputs": [
    {
     "name": "stdout",
     "output_type": "stream",
     "text": [
      "Array 1d:\n",
      "[0.7708776  0.3477651  0.6160233  0.38338914 0.80877185 0.67941475\n",
      " 0.90644798 0.60183911 0.23399336 0.63301226 0.69963018 0.50499127\n",
      " 0.12923543 0.27153356 0.79858574 0.73727006 0.49345221 0.50787014\n",
      " 0.99655949 0.94772552]\n",
      "\n",
      "4X5 Array:\n",
      "[[0.7708776  0.3477651  0.6160233  0.38338914 0.80877185]\n",
      " [0.67941475 0.90644798 0.60183911 0.23399336 0.63301226]\n",
      " [0.69963018 0.50499127 0.12923543 0.27153356 0.79858574]\n",
      " [0.73727006 0.49345221 0.50787014 0.99655949 0.94772552]]\n",
      "\n",
      "Mean of each row:\n",
      "[0.5853654  0.61094149 0.48079523 0.73657548]\n"
     ]
    }
   ],
   "source": [
    "# Create a 1D NumPy array of size 20 with random floats between 0 and 1\n",
    "array1d = np.random.rand(20)\n",
    "\n",
    "print(\"Array 1d:\")\n",
    "print(array1d)\n",
    "\n",
    "# Reshape the array into a 4x5 matrix\n",
    "array2d = array1d.reshape(4, 5)\n",
    "\n",
    "print(\"\\n4X5 Array:\")\n",
    "print(array2d)\n",
    "\n",
    "# Mean of each row\n",
    "rowMeans = np.mean(array2d, axis=1)\n",
    "\n",
    "print(\"\\nMean of each row:\")\n",
    "print(rowMeans)"
   ]
  },
  {
   "cell_type": "markdown",
   "metadata": {},
   "source": [
    "3. Create a 2D numpy array of size 5x5 with random integers between 1 and 100. Compute standard deviation of each column."
   ]
  },
  {
   "cell_type": "code",
   "execution_count": 6,
   "metadata": {},
   "outputs": [
    {
     "name": "stdout",
     "output_type": "stream",
     "text": [
      "Array 2D:\n",
      "[[65 16 93 91 61]\n",
      " [94 49 34 77 61]\n",
      " [ 7 66 43 18 14]\n",
      " [68 18 75 28 31]\n",
      " [66 47 17 62 19]]\n",
      "\n",
      "Std Dev of each column:\n",
      "[28.60069929 19.30181339 27.70992602 28.02427519 20.20297008]\n"
     ]
    }
   ],
   "source": [
    "import numpy as np\n",
    "\n",
    "# Create a 2D NumPy array of size 5x5 with random integers between 1 and 100\n",
    "array2d = np.random.randint(1, 101, size=(5, 5))\n",
    "\n",
    "print(\"Array 2D:\")\n",
    "print(array2d)\n",
    "\n",
    "# Compute the standard deviation of each column\n",
    "columnStdev = np.std(array2d, axis=0)\n",
    "\n",
    "print(\"\\nStd Dev of each column:\")\n",
    "print(columnStdev)"
   ]
  },
  {
   "cell_type": "markdown",
   "metadata": {},
   "source": [
    "4. Create a 1D numpy array of size 15 with random floats between -10 and 10. Replace all negative values with their absolute values."
   ]
  },
  {
   "cell_type": "code",
   "execution_count": 7,
   "metadata": {},
   "outputs": [
    {
     "name": "stdout",
     "output_type": "stream",
     "text": [
      "1D Array:\n",
      "[ 6.82997423 -7.21581918  5.43486933  1.83752484 -2.18351154  9.36535502\n",
      " -4.8099989   0.74947172 -6.51253989 -8.15658479 -7.77186831  3.46870984\n",
      " -5.13651566  6.62071484 -7.6993335 ]\n",
      "\n",
      "1D Array result:\n",
      "[6.82997423 7.21581918 5.43486933 1.83752484 2.18351154 9.36535502\n",
      " 4.8099989  0.74947172 6.51253989 8.15658479 7.77186831 3.46870984\n",
      " 5.13651566 6.62071484 7.6993335 ]\n"
     ]
    }
   ],
   "source": [
    "# Create a 1D NumPy array of size 15 with random floats between -10 and 10\n",
    "array1d = np.random.uniform(-10, 10, size=15)\n",
    "\n",
    "print(\"1D Array:\")\n",
    "print(array1d)\n",
    "\n",
    "# Replace negative values with their absolute values\n",
    "array1d[array1d < 0] = np.abs(array1d[array1d < 0])\n",
    "\n",
    "print(\"\\n1D Array result:\")\n",
    "print(array1d)"
   ]
  },
  {
   "cell_type": "markdown",
   "metadata": {},
   "source": [
    "5. Create a 2D numpy array of size 3x4 with random integers between 1 and 100. Calculate the sum of all elements in the array."
   ]
  },
  {
   "cell_type": "code",
   "execution_count": 9,
   "metadata": {},
   "outputs": [
    {
     "name": "stdout",
     "output_type": "stream",
     "text": [
      "Array 2D:\n",
      "[[64 41 13 42]\n",
      " [12  4 26 46]\n",
      " [41 28  6 42]]\n",
      "\n",
      "Sum : 365\n"
     ]
    }
   ],
   "source": [
    "# Create a 2D NumPy array of size 3x4 with random integers between 1 and 100\n",
    "array2d = np.random.randint(1, 101, size=(3, 4))\n",
    "\n",
    "print(\"Array 2D:\")\n",
    "print(array2d)\n",
    "\n",
    "# Calculate the sum of all elements in the array\n",
    "totalSum = np.sum(array2d)\n",
    "\n",
    "print(\"\\nSum :\", totalSum)"
   ]
  },
  {
   "cell_type": "markdown",
   "metadata": {},
   "source": [
    "7. Create a 2D numpy array of size 4x6 with random floats between 0 and 1. Normalize each column by subtracting the column mean and dividing by the column standard deviation."
   ]
  },
  {
   "cell_type": "code",
   "execution_count": 10,
   "metadata": {},
   "outputs": [
    {
     "name": "stdout",
     "output_type": "stream",
     "text": [
      "Array 2d:\n",
      "[[0.76941007 0.04633655 0.60433608 0.23211617 0.59323214 0.87475249]\n",
      " [0.071665   0.46893904 0.60611338 0.3818523  0.23866515 0.45964596]\n",
      " [0.49709685 0.09825922 0.06006621 0.98404371 0.06473144 0.07167286]\n",
      " [0.05110318 0.5957495  0.73651597 0.25157013 0.02801569 0.25806856]]\n",
      "\n",
      "Normalized 2D Array:\n",
      "[[ 1.39859821 -1.08897276  0.39364783 -0.75100874  1.61875086  1.53792203]\n",
      " [-0.91337794  0.70880231  0.4004683  -0.26267526  0.03354914  0.14621265]\n",
      " [ 0.49628919 -0.86809076 -1.69500959  1.7012477  -0.74407541 -1.15452766]\n",
      " [-0.98150946  1.24826121  0.90089346 -0.68756369 -0.90822459 -0.52960701]]\n"
     ]
    }
   ],
   "source": [
    "# Create a 2D NumPy array of size 4x6 with random floats between 0 and 1\n",
    "array2d = np.random.rand(4, 6)\n",
    "\n",
    "print(\"Array 2d:\")\n",
    "print(array2d)\n",
    "\n",
    "# Calculate column means and standard deviations\n",
    "columnMeans = np.mean(array2d, axis=0)\n",
    "columnStDevs = np.std(array2d, axis=0)\n",
    "\n",
    "# Normalize each column\n",
    "normalizedArray = (array2d - columnMeans) / columnStDevs\n",
    "\n",
    "print(\"\\nNormalized 2D Array:\")\n",
    "print(normalizedArray)"
   ]
  },
  {
   "cell_type": "markdown",
   "metadata": {},
   "source": [
    "8. Create a 2D numpy array of size 10x10 with random integers between 1 and 100. Replace all values greater than 50 with 1 and all other values with 0."
   ]
  },
  {
   "cell_type": "code",
   "execution_count": 18,
   "metadata": {},
   "outputs": [
    {
     "name": "stdout",
     "output_type": "stream",
     "text": [
      "Array 2d v1:\n",
      "[[45 57 81 72 64 97 10 88 51  4]\n",
      " [45 67 76 75  7 31 97 46 92 33]\n",
      " [60 51 56 44 94 71 92 35 39 32]\n",
      " [33 43  6 71 33 14  9 80 68 11]\n",
      " [ 5  4  1 47 93 86 51 94 38 95]\n",
      " [33 97 55 24  1 68 66 87 42 55]\n",
      " [14  6 41  9 77  1 67 69  4 48]\n",
      " [93 33 61 93 61 73 99 73 23 49]\n",
      " [50  2 72 45 75 88 54 66 88 97]\n",
      " [91 23 55 66 52  4 45 44 25 56]]\n",
      "\n",
      "Array 2d v2:\n",
      "[[0 1 1 1 1 1 0 1 1 0]\n",
      " [0 1 1 1 0 0 1 0 1 0]\n",
      " [1 1 1 0 1 1 1 0 0 0]\n",
      " [0 0 0 1 0 0 0 1 1 0]\n",
      " [0 0 0 0 1 1 1 1 0 1]\n",
      " [0 1 1 0 0 1 1 1 0 1]\n",
      " [0 0 0 0 1 0 1 1 0 0]\n",
      " [1 0 1 1 1 1 1 1 0 0]\n",
      " [0 0 1 0 1 1 1 1 1 1]\n",
      " [1 0 1 1 1 0 0 0 0 1]]\n"
     ]
    }
   ],
   "source": [
    "# Create a 2D NumPy array of size 10x10 with random integers between 1 and 100\n",
    "array2d = np.random.randint(1, 101, size=(10, 10))\n",
    "\n",
    "print(\"Array 2d v1:\")\n",
    "print(array2d)\n",
    "\n",
    "# Replace values greater than 50 with 1 and all other values with 0\n",
    "array2d = np.where(array2d > 50, 1, 0)\n",
    "\n",
    "print(\"\\nArray 2d v2:\")\n",
    "print(array2d)"
   ]
  },
  {
   "cell_type": "markdown",
   "metadata": {},
   "source": [
    "9. Create a 1D numpy array of size 50 with random floats between 0 and 1. Find the number of elements greater than 0.5."
   ]
  },
  {
   "cell_type": "code",
   "execution_count": 20,
   "metadata": {},
   "outputs": [
    {
     "name": "stdout",
     "output_type": "stream",
     "text": [
      "Array 1d v1:\n",
      "[0.2987486  0.97377518 0.58251169 0.92484026 0.48884891 0.28595636\n",
      " 0.2544846  0.21822896 0.07273549 0.37840353 0.7490004  0.12238826\n",
      " 0.88999741 0.07378018 0.59190581 0.92743112 0.3888836  0.21067217\n",
      " 0.82841161 0.46959404 0.82606641 0.89016196 0.35178956 0.00255864\n",
      " 0.35935539 0.03948296 0.46399282 0.6387774  0.3224108  0.7737473\n",
      " 0.25462843 0.11729004 0.20355834 0.91731512 0.11703382 0.83496683\n",
      " 0.63929907 0.72217564 0.95120656 0.1393842  0.80521933 0.78735168\n",
      " 0.49063618 0.72750826 0.85559068 0.99929107 0.14345759 0.6563818\n",
      " 0.53528759 0.18375991]\n",
      "\n",
      "Elements greater than 0.5: 24\n"
     ]
    }
   ],
   "source": [
    "# Create a 1D NumPy array of size 50 with random floats between 0 and 1\n",
    "array1d = np.random.rand(50)\n",
    "\n",
    "print(\"Array 1d v1:\")\n",
    "print(array1d)\n",
    "\n",
    "# Count the number of elements greater than 0.5\n",
    "countGreater0_5 = np.sum(array1d > 0.5)\n",
    "\n",
    "print(\"\\nElements greater than 0.5:\", countGreater0_5)"
   ]
  },
  {
   "cell_type": "markdown",
   "metadata": {},
   "source": [
    "10. Create a 2D numpy array of size 5x5 with random floats between -1 and 1. Find the absolute difference between the maximum and minimum values in each row."
   ]
  },
  {
   "cell_type": "code",
   "execution_count": 21,
   "metadata": {},
   "outputs": [
    {
     "name": "stdout",
     "output_type": "stream",
     "text": [
      "Array 2d v1:\n",
      "[[-0.93520071 -0.44007588  0.27643194 -0.10126577 -0.75355222]\n",
      " [ 0.48010787 -0.0214574   0.09942212  0.74252044  0.68246053]\n",
      " [-0.66105055  0.04946416  0.55603311 -0.25060334 -0.28234631]\n",
      " [ 0.23762091  0.93107648 -0.861756    0.25165824  0.14053138]\n",
      " [-0.91686808 -0.404009   -0.74563321 -0.56622945 -0.23792087]]\n",
      "\n",
      "Absolute difference between max and min values in each row:\n",
      "[1.21163265 0.76397785 1.21708366 1.79283247 0.67894721]\n"
     ]
    }
   ],
   "source": [
    "# Create a 2D NumPy array of size 5x5 with random floats between -1 and 1\n",
    "array2d = np.random.uniform(-1, 1, size=(5, 5))\n",
    "\n",
    "print(\"Array 2d v1:\")\n",
    "print(array2d)\n",
    "\n",
    "# Absolute difference between the maximum and minimum values in each row with ptp function\n",
    "difMaxMinAbs = np.ptp(array2d, axis=1)\n",
    "\n",
    "print(\"\\nAbsolute difference between max and min values in each row:\")\n",
    "print(difMaxMinAbs)"
   ]
  },
  {
   "cell_type": "markdown",
   "metadata": {},
   "source": [
    "## Pandas"
   ]
  },
  {
   "cell_type": "markdown",
   "metadata": {},
   "source": [
    "Please refer the dataframe (farm data) we have created in the training. Please copy that cell and paste it below before starting this part. "
   ]
  },
  {
   "cell_type": "code",
   "execution_count": 22,
   "metadata": {},
   "outputs": [],
   "source": [
    "import random\n",
    "import pandas as pd\n",
    "\n",
    "# Define the range for longitude and latitude\n",
    "lon_range = (-105, -100)\n",
    "lat_range = (50, 52)\n",
    "\n",
    "# Define the list of soil types\n",
    "soil_types = ['black', 'gray', 'dark brown', 'brown', None]\n",
    "\n",
    "# Create an empty list to store the farms\n",
    "farms = []\n",
    "\n",
    "# Generate 40 farms\n",
    "for i in range(1000):\n",
    "    farm = {\n",
    "        'farm_name': f'Farm {i+1}', # f is formated string\n",
    "        'farm_lon': round(random.uniform(lon_range[0], lon_range[1]), 2), # random lon with 2 decimal points\n",
    "        'farm_lat': round(random.uniform(lat_range[0], lat_range[1]), 2), # rantom lat with 2 decimal points\n",
    "        'temperature': round(random.uniform(18, 33), 1), #random temp with 1 decimal points\n",
    "        'precipitation': round(random.uniform(20, 90), 1), # random prec with 1 decimal points\n",
    "        'soil_type': random.choice(soil_types) # random soil types from above list\n",
    "    }\n",
    "    farms.append(farm)"
   ]
  },
  {
   "cell_type": "code",
   "execution_count": 23,
   "metadata": {},
   "outputs": [],
   "source": [
    "df = pd.DataFrame(farms)"
   ]
  },
  {
   "cell_type": "markdown",
   "metadata": {},
   "source": [
    "1. Select the rows where the temperature is above 20 degrees Celsius."
   ]
  },
  {
   "cell_type": "code",
   "execution_count": 24,
   "metadata": {},
   "outputs": [
    {
     "name": "stdout",
     "output_type": "stream",
     "text": [
      "    farm_name  farm_lon  farm_lat  temperature  precipitation   soil_type\n",
      "0      Farm 1   -100.43     50.75         25.0           83.1       brown\n",
      "2      Farm 3   -102.88     50.70         25.4           69.1        None\n",
      "4      Farm 5   -104.53     50.97         20.7           31.6  dark brown\n",
      "5      Farm 6   -104.31     51.94         25.6           84.8       black\n",
      "6      Farm 7   -103.22     51.58         30.4           46.3       black\n",
      "..        ...       ...       ...          ...            ...         ...\n",
      "994  Farm 995   -101.68     51.08         27.5           38.2       black\n",
      "995  Farm 996   -103.26     51.71         27.2           26.8  dark brown\n",
      "996  Farm 997   -100.34     50.04         30.6           35.4        None\n",
      "997  Farm 998   -102.28     51.90         32.2           62.6       brown\n",
      "998  Farm 999   -104.43     51.75         27.8           61.7        None\n",
      "\n",
      "[867 rows x 6 columns]\n"
     ]
    }
   ],
   "source": [
    "rowsGreater20 = df[df['temperature'] > 20]\n",
    "\n",
    "print(rowsGreater20)"
   ]
  },
  {
   "cell_type": "markdown",
   "metadata": {},
   "source": [
    "2. Sort the DataFrame by precipitation in descending order."
   ]
  },
  {
   "cell_type": "code",
   "execution_count": 31,
   "metadata": {},
   "outputs": [
    {
     "name": "stdout",
     "output_type": "stream",
     "text": [
      "    farm_name  farm_lon  farm_lat  temperature  precipitation   soil_type\n",
      "549  Farm 550   -104.94     51.04         28.4           89.8        None\n",
      "869  Farm 870   -100.54     50.09         23.3           89.7  dark brown\n",
      "598  Farm 599   -104.43     50.51         27.1           89.7        None\n",
      "231  Farm 232   -102.68     50.80         18.5           89.5       brown\n",
      "967  Farm 968   -100.03     51.37         29.3           89.5        gray\n",
      "..        ...       ...       ...          ...            ...         ...\n",
      "219  Farm 220   -104.79     51.50         24.6           20.6  dark brown\n",
      "544  Farm 545   -100.57     50.14         21.5           20.5       brown\n",
      "160  Farm 161   -102.18     51.35         22.9           20.3       brown\n",
      "791  Farm 792   -101.13     50.87         22.8           20.2  dark brown\n",
      "550  Farm 551   -101.24     50.16         28.9           20.1       black\n",
      "\n",
      "[1000 rows x 6 columns]\n"
     ]
    }
   ],
   "source": [
    "sortedDf = df.sort_values(by='precipitation', ascending=False)\n",
    "print(sortedDf)"
   ]
  },
  {
   "cell_type": "markdown",
   "metadata": {},
   "source": [
    "3. Filter the DataFrame to include only the farms located within latitude (51.15 & 51.00) range."
   ]
  },
  {
   "cell_type": "code",
   "execution_count": 30,
   "metadata": {},
   "outputs": [
    {
     "name": "stdout",
     "output_type": "stream",
     "text": [
      "    farm_name  farm_lon  farm_lat  temperature  precipitation   soil_type\n",
      "1      Farm 2   -104.97     51.10         18.6           66.8        gray\n",
      "19    Farm 20   -104.22     51.07         23.6           58.3       brown\n",
      "20    Farm 21   -100.87     51.01         21.9           23.7       black\n",
      "31    Farm 32   -100.95     51.06         18.8           41.0  dark brown\n",
      "46    Farm 47   -100.03     51.11         31.8           45.2       brown\n",
      "..        ...       ...       ...          ...            ...         ...\n",
      "964  Farm 965   -103.93     51.06         30.6           89.2  dark brown\n",
      "970  Farm 971   -102.98     51.00         29.3           81.6        gray\n",
      "981  Farm 982   -102.34     51.04         32.9           64.0       brown\n",
      "983  Farm 984   -102.12     51.11         23.8           34.8  dark brown\n",
      "994  Farm 995   -101.68     51.08         27.5           38.2       black\n",
      "\n",
      "[78 rows x 6 columns]\n"
     ]
    }
   ],
   "source": [
    "# Filtered only farms located within latitude (51.15 & 51.00) range\n",
    "filteredDf = df[(df['farm_lat'] >= 51.00) & (df['farm_lat'] <= 51.15)]\n",
    "print(filteredDf)"
   ]
  },
  {
   "cell_type": "markdown",
   "metadata": {},
   "source": [
    " 4. Calculate the standard deviation of precipitation for each soil type."
   ]
  },
  {
   "cell_type": "code",
   "execution_count": 34,
   "metadata": {},
   "outputs": [
    {
     "name": "stdout",
     "output_type": "stream",
     "text": [
      "soil_type\n",
      "black         19.948158\n",
      "brown         19.377513\n",
      "dark brown    19.648407\n",
      "gray          20.879803\n",
      "Name: precipitation, dtype: float64\n"
     ]
    }
   ],
   "source": [
    "stdDevbySoilType = df.groupby('soil_type')['precipitation'].std()\n",
    "print(stdDevbySoilType)"
   ]
  },
  {
   "cell_type": "markdown",
   "metadata": {},
   "source": [
    "5. Calculate the cumulative sum of precipitation for each soil type."
   ]
  },
  {
   "cell_type": "code",
   "execution_count": 38,
   "metadata": {},
   "outputs": [
    {
     "name": "stdout",
     "output_type": "stream",
     "text": [
      "soil_type     \n",
      "black      5         84.8\n",
      "           6        131.1\n",
      "           11       174.7\n",
      "           14       222.4\n",
      "           20       246.1\n",
      "                   ...   \n",
      "gray       967    10630.2\n",
      "           970    10711.8\n",
      "           971    10735.3\n",
      "           985    10795.1\n",
      "           989    10851.0\n",
      "Name: precipitation, Length: 797, dtype: float64\n"
     ]
    }
   ],
   "source": [
    "cumulativeSumbySoilType = df.groupby('soil_type')['precipitation'].expanding().sum()\n",
    "\n",
    "print(cumulativeSumbySoilType)"
   ]
  },
  {
   "cell_type": "markdown",
   "metadata": {},
   "source": [
    "6. Determine the top 3 farms with the highest average temperature."
   ]
  },
  {
   "cell_type": "code",
   "execution_count": 41,
   "metadata": {},
   "outputs": [
    {
     "name": "stdout",
     "output_type": "stream",
     "text": [
      "farm_name\n",
      "Farm 733    33.0\n",
      "Farm 119    32.9\n",
      "Farm 127    32.9\n",
      "Name: temperature, dtype: float64\n"
     ]
    }
   ],
   "source": [
    "averageTempxFarm = df.groupby('farm_name')['temperature'].mean()\n",
    "\n",
    "# Sort farms based on average temperature in descending order and select the top 3\n",
    "top3 = averageTempxFarm.nlargest(3)\n",
    "\n",
    "print(top3)"
   ]
  },
  {
   "cell_type": "markdown",
   "metadata": {},
   "source": [
    "7. Find famrs in each soil type that have the highest temperature."
   ]
  },
  {
   "cell_type": "code",
   "execution_count": 42,
   "metadata": {},
   "outputs": [
    {
     "name": "stdout",
     "output_type": "stream",
     "text": [
      "    farm_name  farm_lon  farm_lat  temperature  precipitation   soil_type  \\\n",
      "259  Farm 260   -102.04     50.65         32.9           59.4       black   \n",
      "732  Farm 733   -100.48     51.16         33.0           83.4       brown   \n",
      "327  Farm 328   -100.67     51.06         32.8           82.0  dark brown   \n",
      "702  Farm 703   -104.28     51.02         32.8           24.4        gray   \n",
      "\n",
      "     cumulative_sum_precipitation  \n",
      "259                        2927.6  \n",
      "732                        9004.4  \n",
      "327                        2957.4  \n",
      "702                        7611.8  \n"
     ]
    }
   ],
   "source": [
    "farmsHighbySoilT = df.loc[df.groupby('soil_type')['temperature'].idxmax()]\n",
    "\n",
    "print(farmsHighbySoilT)"
   ]
  },
  {
   "cell_type": "markdown",
   "metadata": {},
   "source": [
    "8. Create new column 'percentage_tot_prec' and add the percentage contribution of each farm's precipitation (relative to total precipitation) to the column."
   ]
  },
  {
   "cell_type": "code",
   "execution_count": 44,
   "metadata": {},
   "outputs": [
    {
     "name": "stdout",
     "output_type": "stream",
     "text": [
      "     farm_name  farm_lon  farm_lat  temperature  precipitation   soil_type  \\\n",
      "0       Farm 1   -100.43     50.75         25.0           83.1       brown   \n",
      "1       Farm 2   -104.97     51.10         18.6           66.8        gray   \n",
      "2       Farm 3   -102.88     50.70         25.4           69.1        None   \n",
      "3       Farm 4   -102.01     50.55         19.0           88.9       brown   \n",
      "4       Farm 5   -104.53     50.97         20.7           31.6  dark brown   \n",
      "..         ...       ...       ...          ...            ...         ...   \n",
      "995   Farm 996   -103.26     51.71         27.2           26.8  dark brown   \n",
      "996   Farm 997   -100.34     50.04         30.6           35.4        None   \n",
      "997   Farm 998   -102.28     51.90         32.2           62.6       brown   \n",
      "998   Farm 999   -104.43     51.75         27.8           61.7        None   \n",
      "999  Farm 1000   -104.59     50.74         18.8           82.5        None   \n",
      "\n",
      "     cumulative_sum_precipitation  percentage_tot_prec  \n",
      "0                            83.1             0.149261  \n",
      "1                            66.8             0.119984  \n",
      "2                             NaN             0.124115  \n",
      "3                           172.0             0.159679  \n",
      "4                            31.6             0.056759  \n",
      "..                            ...                  ...  \n",
      "995                       10455.3             0.048137  \n",
      "996                           NaN             0.063584  \n",
      "997                       11824.9             0.112440  \n",
      "998                           NaN             0.110823  \n",
      "999                           NaN             0.148184  \n",
      "\n",
      "[1000 rows x 8 columns]\n"
     ]
    }
   ],
   "source": [
    "# Calculate the total precipitation\n",
    "totalPrecipitation = df['precipitation'].sum()\n",
    "\n",
    "# Calculate the percentage contribution of each farm's precipitation relative to the total precipitation\n",
    "df['percentage_tot_prec'] = (df['precipitation'] / totalPrecipitation) * 100\n",
    "\n",
    "print(df)"
   ]
  },
  {
   "cell_type": "markdown",
   "metadata": {},
   "source": [
    "9. Create a new column called \"precipitation_rank\" that ranks the farms based on their precipitation in ascending order, with ties being assigned the same rank."
   ]
  },
  {
   "cell_type": "code",
   "execution_count": 48,
   "metadata": {},
   "outputs": [
    {
     "name": "stdout",
     "output_type": "stream",
     "text": [
      "     farm_name  farm_lon  farm_lat  temperature  precipitation   soil_type  \\\n",
      "0       Farm 1   -100.43     50.75         25.0           83.1       brown   \n",
      "1       Farm 2   -104.97     51.10         18.6           66.8        gray   \n",
      "2       Farm 3   -102.88     50.70         25.4           69.1        None   \n",
      "3       Farm 4   -102.01     50.55         19.0           88.9       brown   \n",
      "4       Farm 5   -104.53     50.97         20.7           31.6  dark brown   \n",
      "..         ...       ...       ...          ...            ...         ...   \n",
      "995   Farm 996   -103.26     51.71         27.2           26.8  dark brown   \n",
      "996   Farm 997   -100.34     50.04         30.6           35.4        None   \n",
      "997   Farm 998   -102.28     51.90         32.2           62.6       brown   \n",
      "998   Farm 999   -104.43     51.75         27.8           61.7        None   \n",
      "999  Farm 1000   -104.59     50.74         18.8           82.5        None   \n",
      "\n",
      "     cumulative_sum_precipitation  percentage_tot_prec  precipitation_rank  \\\n",
      "0                            83.1             0.149261               902.0   \n",
      "1                            66.8             0.119984               663.0   \n",
      "2                             NaN             0.124115               692.0   \n",
      "3                           172.0             0.159679               982.0   \n",
      "4                            31.6             0.056759               147.0   \n",
      "..                            ...                  ...                 ...   \n",
      "995                       10455.3             0.048137                75.0   \n",
      "996                           NaN             0.063584               208.0   \n",
      "997                       11824.9             0.112440               601.0   \n",
      "998                           NaN             0.110823               583.0   \n",
      "999                           NaN             0.148184               892.0   \n",
      "\n",
      "     temperature_normalized  \n",
      "0                  0.466667  \n",
      "1                  0.040000  \n",
      "2                  0.493333  \n",
      "3                  0.066667  \n",
      "4                  0.180000  \n",
      "..                      ...  \n",
      "995                0.613333  \n",
      "996                0.840000  \n",
      "997                0.946667  \n",
      "998                0.653333  \n",
      "999                0.053333  \n",
      "\n",
      "[1000 rows x 10 columns]\n"
     ]
    }
   ],
   "source": [
    "df['precipitation_rank'] = df['precipitation'].rank(method='min')\n",
    "\n",
    "print(df)"
   ]
  },
  {
   "cell_type": "markdown",
   "metadata": {},
   "source": [
    "10. Normalize the temperature column to a range between 0 and 1 for each farm."
   ]
  },
  {
   "cell_type": "code",
   "execution_count": 55,
   "metadata": {},
   "outputs": [
    {
     "name": "stdout",
     "output_type": "stream",
     "text": [
      "     farm_name  farm_lon  farm_lat  temperature  precipitation   soil_type  \\\n",
      "0       Farm 1   -100.43     50.75         25.0           83.1       brown   \n",
      "1      Farm 10   -103.87     51.74         18.9           51.0       brown   \n",
      "2     Farm 100   -101.34     51.86         21.8           46.6       brown   \n",
      "3    Farm 1000   -104.59     50.74         18.8           82.5        None   \n",
      "4     Farm 101   -100.94     50.53         22.3           68.6       black   \n",
      "..         ...       ...       ...          ...            ...         ...   \n",
      "995   Farm 995   -101.68     51.08         27.5           38.2       black   \n",
      "996   Farm 996   -103.26     51.71         27.2           26.8  dark brown   \n",
      "997   Farm 997   -100.34     50.04         30.6           35.4        None   \n",
      "998   Farm 998   -102.28     51.90         32.2           62.6       brown   \n",
      "999   Farm 999   -104.43     51.75         27.8           61.7        None   \n",
      "\n",
      "     cumulative_sum_precipitation  percentage_tot_prec  precipitation_rank  \\\n",
      "0                            83.1             0.149261               902.0   \n",
      "1                           271.5             0.091604               424.0   \n",
      "2                          1478.7             0.083701               369.0   \n",
      "3                             NaN             0.148184               892.0   \n",
      "4                          1451.7             0.123217               687.0   \n",
      "..                            ...                  ...                 ...   \n",
      "995                       10782.4             0.068613               241.0   \n",
      "996                       10455.3             0.048137                75.0   \n",
      "997                           NaN             0.063584               208.0   \n",
      "998                       11824.9             0.112440               601.0   \n",
      "999                           NaN             0.110823               583.0   \n",
      "\n",
      "     temperature_normalized  \n",
      "0                  0.466667  \n",
      "1                  0.060000  \n",
      "2                  0.253333  \n",
      "3                  0.053333  \n",
      "4                  0.286667  \n",
      "..                      ...  \n",
      "995                0.633333  \n",
      "996                0.613333  \n",
      "997                0.840000  \n",
      "998                0.946667  \n",
      "999                0.653333  \n",
      "\n",
      "[1000 rows x 10 columns]\n"
     ]
    }
   ],
   "source": [
    "# Import MinMaxScaler from scikit-learn\n",
    "from sklearn.preprocessing import MinMaxScaler\n",
    "\n",
    "# Initialize MinMaxScaler\n",
    "scaler = MinMaxScaler()\n",
    "\n",
    "# Reshape the temperature column to a 2D array (MinMaxScaler)\n",
    "temperatureValues = df['temperature'].values.reshape(-1, 1)\n",
    "\n",
    "# Fit and transform the temperature values to a range between 0 and 1\n",
    "normTemperature = scaler.fit_transform(temperatureValues)\n",
    "\n",
    "# Assign the normalized values to the 'temperature' column in the DataFrame\n",
    "df['temperature_normalized'] = normTemperature\n",
    "\n",
    "print(df)"
   ]
  },
  {
   "cell_type": "markdown",
   "metadata": {},
   "source": [
    "## ETL"
   ]
  },
  {
   "cell_type": "markdown",
   "metadata": {},
   "source": [
    "11. Change column types accordingly."
   ]
  },
  {
   "cell_type": "code",
   "execution_count": 57,
   "metadata": {},
   "outputs": [
    {
     "name": "stdout",
     "output_type": "stream",
     "text": [
      "farm_name                        object\n",
      "farm_lon                        float64\n",
      "farm_lat                        float64\n",
      "temperature                     float64\n",
      "precipitation                   float64\n",
      "soil_type                        object\n",
      "cumulative_sum_precipitation    float64\n",
      "percentage_tot_prec             float64\n",
      "precipitation_rank                int32\n",
      "temperature_normalized          float64\n",
      "dtype: object\n"
     ]
    }
   ],
   "source": [
    "# Setting data types for each column\n",
    "column_types = {\n",
    "    'farm_name': str,  # Convert to string\n",
    "    'farm_lon': float,  # Convert to float\n",
    "    'farm_lat': float,  # Convert to float\n",
    "    'temperature': float,  # Convert to float\n",
    "    'precipitation': float,  # Convert to float\n",
    "    'soil_type': str,  # Convert to string\n",
    "    'percentage_tot_prec': float,  # Convert to float\n",
    "    'precipitation_rank': int,  # Convert to integer\n",
    "    'temperature_normalized': float  # Convert to float\n",
    "}\n",
    "\n",
    "# Change column types accordingly\n",
    "df = df.astype(column_types)\n",
    "\n",
    "print(df.dtypes)"
   ]
  },
  {
   "cell_type": "markdown",
   "metadata": {},
   "source": [
    "## EDA"
   ]
  },
  {
   "cell_type": "markdown",
   "metadata": {},
   "source": [
    "12. Find missing values and give information how would you handle them"
   ]
  },
  {
   "cell_type": "code",
   "execution_count": 58,
   "metadata": {},
   "outputs": [
    {
     "name": "stdout",
     "output_type": "stream",
     "text": [
      "Missing Values:\n",
      "farm_name                         0\n",
      "farm_lon                          0\n",
      "farm_lat                          0\n",
      "temperature                       0\n",
      "precipitation                     0\n",
      "soil_type                         0\n",
      "cumulative_sum_precipitation    203\n",
      "percentage_tot_prec               0\n",
      "precipitation_rank                0\n",
      "temperature_normalized            0\n",
      "dtype: int64\n"
     ]
    }
   ],
   "source": [
    "#Finding missing values\n",
    "missingValues = df.isnull().sum()\n",
    "\n",
    "print(\"Missing Values:\")\n",
    "print(missingValues)"
   ]
  },
  {
   "cell_type": "markdown",
   "metadata": {},
   "source": [
    "13. Find outliers if there is any how would you handle them"
   ]
  },
  {
   "cell_type": "code",
   "execution_count": 61,
   "metadata": {},
   "outputs": [
    {
     "name": "stdout",
     "output_type": "stream",
     "text": [
      "Outliers in temperature:\n",
      "Empty DataFrame\n",
      "Columns: [farm_name, farm_lon, farm_lat, temperature, precipitation, soil_type, cumulative_sum_precipitation, percentage_tot_prec, precipitation_rank, temperature_normalized]\n",
      "Index: []\n",
      "\n",
      "Outliers in precipitation:\n",
      "Empty DataFrame\n",
      "Columns: [farm_name, farm_lon, farm_lat, temperature, precipitation, soil_type, cumulative_sum_precipitation, percentage_tot_prec, precipitation_rank, temperature_normalized]\n",
      "Index: []\n"
     ]
    }
   ],
   "source": [
    "from scipy import stats\n",
    "\n",
    "# Calculate z-scores for temperature and precipitation columns\n",
    "zscores_temp = stats.zscore(df['temperature'])\n",
    "zscores_precip = stats.zscore(df['precipitation'])\n",
    "\n",
    "# Define a threshold for detecting outliers (e.g., z-score > 3)\n",
    "threshold = 3\n",
    "\n",
    "# Find outliers for temperature and precipitation\n",
    "outliersTemp = df[abs(zscores_temp) > threshold]\n",
    "outliersPrecip = df[abs(zscores_precip) > threshold]\n",
    "\n",
    "# Print outliers\n",
    "print(\"Outliers in temperature:\")\n",
    "print(outliersTemp)\n",
    "\n",
    "print(\"\\nOutliers in precipitation:\")\n",
    "print(outliersPrecip)"
   ]
  },
  {
   "cell_type": "markdown",
   "metadata": {},
   "source": [
    "14. Find descriptive statistics for relavant columns and plot them by using bars."
   ]
  },
  {
   "cell_type": "code",
   "execution_count": 62,
   "metadata": {},
   "outputs": [
    {
     "name": "stdout",
     "output_type": "stream",
     "text": [
      "Descriptive Statistics:\n",
      "       temperature  precipitation\n",
      "count  1000.000000     1000.00000\n",
      "mean     25.385900       55.67420\n",
      "std       4.283662       19.89514\n",
      "min      18.000000       20.10000\n",
      "25%      21.700000       38.60000\n",
      "50%      25.400000       55.75000\n",
      "75%      29.100000       73.00000\n",
      "max      33.000000       89.80000\n"
     ]
    },
    {
     "data": {
      "image/png": "[encoded data removed]",
      "text/plain": [
       "<Figure size 1000x600 with 1 Axes>"
      ]
     },
     "metadata": {},
     "output_type": "display_data"
    }
   ],
   "source": [
    "import matplotlib.pyplot as plt\n",
    "import seaborn as sns\n",
    "\n",
    "# Relevant columns for analysis\n",
    "relevantColumns = ['temperature', 'precipitation']\n",
    "\n",
    "# Descriptive statistics\n",
    "stats = df[relevantColumns].describe()\n",
    "\n",
    "print(\"Descriptive Statistics:\")\n",
    "print(stats)\n",
    "\n",
    "# Plotting\n",
    "plt.figure(figsize=(10, 6))\n",
    "\n",
    "# Plotting bars for each column\n",
    "for col in relevantColumns:\n",
    "    sns.histplot(df[col], bins=20, kde=False, label=col, alpha=0.5)\n",
    "\n",
    "plt.title(\"Distribution of Relevant Columns\")\n",
    "plt.xlabel(\"Value\")\n",
    "plt.ylabel(\"Frequency\")\n",
    "plt.legend()\n",
    "plt.grid(True)\n",
    "plt.show()"
   ]
  },
  {
   "cell_type": "markdown",
   "metadata": {},
   "source": [
    "15. Plot the distribution of relevant columns."
   ]
  },
  {
   "cell_type": "code",
   "execution_count": 63,
   "metadata": {},
   "outputs": [
    {
     "data": {
      "image/png": "[encoded data removed]",
      "text/plain": [
       "<Figure size 1000x600 with 1 Axes>"
      ]
     },
     "metadata": {},
     "output_type": "display_data"
    }
   ],
   "source": [
    "import seaborn as sns\n",
    "import matplotlib.pyplot as plt\n",
    "\n",
    "# Relevant columns for analysis\n",
    "relevant_columns = ['temperature', 'precipitation']\n",
    "\n",
    "# Plotting\n",
    "plt.figure(figsize=(10, 6))\n",
    "\n",
    "# Plotting distribution for each column\n",
    "for col in relevant_columns:\n",
    "    sns.histplot(df[col], kde=True, label=col, alpha=0.5)\n",
    "\n",
    "plt.title(\"Distribution of Relevant Columns\")\n",
    "plt.xlabel(\"Value\")\n",
    "plt.ylabel(\"Frequency\")\n",
    "plt.legend()\n",
    "plt.grid(True)\n",
    "plt.show()"
   ]
  },
  {
   "cell_type": "code",
   "execution_count": null,
   "metadata": {},
   "outputs": [],
   "source": []
  }
 ],
 "metadata": {
  "kernelspec": {
   "display_name": "Python 3 (ipykernel)",
   "language": "python",
   "name": "python3"
  },
  "language_info": {
   "codemirror_mode": {
    "name": "ipython",
    "version": 3
   },
   "file_extension": ".py",
   "mimetype": "text/x-python",
   "name": "python",
   "nbconvert_exporter": "python",
   "pygments_lexer": "ipython3",
   "version": "3.11.5"
  }
 },
 "nbformat": 4,
 "nbformat_minor": 2
}
