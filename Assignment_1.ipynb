{
 "cells": [
  {
   "cell_type": "markdown",
   "metadata": {},
   "source": [
    "**Please follow the instructions. Do not add new cell! Write your code in designated areas.**"
   ]
  },
  {
   "cell_type": "code",
   "execution_count": 1,
   "metadata": {},
   "outputs": [
    {
     "name": "stdout",
     "output_type": "stream",
     "text": [
      "Assignment 1: Solutions by Roger Basaldua\n",
      "Local Time: 2024-02-09 15:49:43\n",
      "Computer ID: Rogerbas\n"
     ]
    }
   ],
   "source": [
    "import datetime\n",
    "import socket\n",
    "\n",
    "# Get local time\n",
    "local_time = datetime.datetime.now().strftime(\"%Y-%m-%d %H:%M:%S\")\n",
    "\n",
    "# Get computer ID or hostname\n",
    "computer_id = socket.gethostname()\n",
    "\n",
    "# Print output with local time and computer ID\n",
    "print('Assignment 1: Solutions by Roger Basaldua') # Please change your name here\n",
    "print('Local Time:', local_time)\n",
    "print('Computer ID:', computer_id)"
   ]
  },
  {
   "cell_type": "markdown",
   "metadata": {},
   "source": [
    "**Note that you have to run this code in your local engine to pass the assignments**"
   ]
  },
  {
   "cell_type": "markdown",
   "metadata": {},
   "source": [
    "# Assignment 1"
   ]
  },
  {
   "cell_type": "markdown",
   "metadata": {},
   "source": [
    "## Exercise 1: String Manipulation"
   ]
  },
  {
   "cell_type": "markdown",
   "metadata": {},
   "source": [
    "Develop a function that accepts a string parameter indicating a crop name and gives back the crop name in capital letters. Hints: str, upper(), def"
   ]
  },
  {
   "cell_type": "code",
   "execution_count": 15,
   "metadata": {},
   "outputs": [
    {
     "name": "stdout",
     "output_type": "stream",
     "text": [
      "FARMEXAMPLE\n"
     ]
    }
   ],
   "source": [
    "#Function that accepts a string parameter indicating a crop name and gives back the crop name in capital letters\n",
    "def getCropNameCL(cropName):\n",
    "    return cropName.upper()\n",
    "\n",
    "cropNameCap='FarmExample'\n",
    "cropnameCap=getCropNameCL(cropNameCap)\n",
    "#Print crop in capital letters\n",
    "print(cropnameCap)"
   ]
  },
  {
   "cell_type": "markdown",
   "metadata": {},
   "source": [
    "## Exercise 2: Crop Count"
   ]
  },
  {
   "cell_type": "markdown",
   "metadata": {},
   "source": [
    "Create a function that receives a list of crop names (lentil, barley, canola, spring wheat, durum wheat, oats, alfalfa) and outputs the total number of crops. Hints: list, length, def."
   ]
  },
  {
   "cell_type": "code",
   "execution_count": 17,
   "metadata": {},
   "outputs": [
    {
     "name": "stdout",
     "output_type": "stream",
     "text": [
      "7\n"
     ]
    }
   ],
   "source": [
    "#Function that receives a list and outputs the total number of crops.\n",
    "def totalNumberCrops(lst):\n",
    "    return len(lst)\n",
    "\n",
    "#List of crops\n",
    "cropList = [\"lentil\", \"barley\", \"canola\", \"spring wheat\", \"durum wheat\", \"oats\", \"alfalfa\"]\n",
    "\n",
    "#printing number of crops\n",
    "print(totalNumberCrops(cropList))\n"
   ]
  },
  {
   "cell_type": "markdown",
   "metadata": {},
   "source": [
    "## Exercise 3: Temperature Conversion"
   ]
  },
  {
   "cell_type": "markdown",
   "metadata": {},
   "source": [
    "Create a function that takes a temperature in Celsius and converts it to Fahrenheit. Return the converted temperature. Keys:def, find converter."
   ]
  },
  {
   "cell_type": "code",
   "execution_count": 20,
   "metadata": {},
   "outputs": [
    {
     "name": "stdout",
     "output_type": "stream",
     "text": [
      "Temperature in Farenheit: 86.0\n"
     ]
    }
   ],
   "source": [
    "# Function that converts Celsius to Fahrenheit\n",
    "def convCeltoFar(celTemp):\n",
    "    farTemp=(celTemp * 9/5) + 32\n",
    "    return farTemp \n",
    "\n",
    "celTemp=30\n",
    "print('Temperature in Farenheit:',convCeltoFar(celTemp))"
   ]
  },
  {
   "cell_type": "markdown",
   "metadata": {},
   "source": [
    "## Exercise 4: Crop Harvest"
   ]
  },
  {
   "cell_type": "markdown",
   "metadata": {},
   "source": [
    "Create a function that takes the yield of canola crop (in bushels) and returns a string indicating whether it's a high, moderate, or low yield. Keys: strings, if-else, print()"
   ]
  },
  {
   "cell_type": "code",
   "execution_count": 24,
   "metadata": {},
   "outputs": [
    {
     "name": "stdout",
     "output_type": "stream",
     "text": [
      "high\n"
     ]
    }
   ],
   "source": [
    "#Assuming high canola yield crop greater than 80 as high , greater than 50 moderate and less low \n",
    "def levelCanolaCrop(yieldBush):\n",
    "    if yieldBush>80:\n",
    "        return \"high\"\n",
    "    elif yieldBush>50:\n",
    "        return \"moderate\"\n",
    "    else:\n",
    "        return \"low\"\n",
    "    \n",
    "print(levelCanolaCrop(81))\n"
   ]
  },
  {
   "cell_type": "markdown",
   "metadata": {},
   "source": [
    "## Exercise 5: Crop Average"
   ]
  },
  {
   "cell_type": "markdown",
   "metadata": {},
   "source": [
    "Create a function that takes a list of crop yields (spring wheat) and returns the average yield. Keys: list, average() or arithmetic average."
   ]
  },
  {
   "cell_type": "code",
   "execution_count": 29,
   "metadata": {},
   "outputs": [
    {
     "name": "stdout",
     "output_type": "stream",
     "text": [
      "Average of list: 22.5\n"
     ]
    }
   ],
   "source": [
    "#function that returns the average of a list\n",
    "def avegCropYields(lst):\n",
    "    return sum(lst) / len(lst)\n",
    "\n",
    "#list of crop yields\n",
    "cropYields=[10,20,40,20]\n",
    "print(\"Average of list:\",avegCropYields(cropYields))"
   ]
  },
  {
   "cell_type": "markdown",
   "metadata": {},
   "source": [
    "## Exercise 6: Crop Recommendation"
   ]
  },
  {
   "cell_type": "markdown",
   "metadata": {},
   "source": [
    "Create a function that takes the type of soil (brown, dark brown, black) as a parameter and returns a recommended crop (lentil, canola, oats) for that soil type. Keys: dict, def"
   ]
  },
  {
   "cell_type": "code",
   "execution_count": 32,
   "metadata": {},
   "outputs": [
    {
     "name": "stdout",
     "output_type": "stream",
     "text": [
      "canola\n"
     ]
    }
   ],
   "source": [
    "#function that takes the type of soil as a parameter and returns a recommended crop \n",
    "def getRecommCrop(typeSoil):\n",
    "    crop_Soil = {\n",
    "    \"brown\": \"lentil\",\n",
    "    \"dark brown\": \"canola\",\n",
    "    \"black\": \"canola\"\n",
    "    }\n",
    "    return crop_Soil[typeSoil]\n",
    "\n",
    "#Getting the recommended crop\n",
    "print(getRecommCrop(\"black\"))"
   ]
  },
  {
   "cell_type": "markdown",
   "metadata": {},
   "source": [
    "## Exercise 7: Crop Rotation"
   ]
  },
  {
   "cell_type": "markdown",
   "metadata": {},
   "source": [
    "\n",
    "Create a function that takes a list of crop names (lentil, barly, canola, spring wheat, durum wheat, oats) and rotates the crops by moving the last crop to the beginning of the list. Keys: list and list index, def."
   ]
  },
  {
   "cell_type": "code",
   "execution_count": 6,
   "metadata": {},
   "outputs": [
    {
     "name": "stdout",
     "output_type": "stream",
     "text": [
      "['oats', 'lentil', 'barly', 'canola', 'spring wheat', 'durum wheat']\n"
     ]
    }
   ],
   "source": [
    "# function move last crop to the beginning\n",
    "def rotateCrops(cropList):\n",
    "    lastCrop = cropList.pop()  # Remove last crop\n",
    "    cropList.insert(0, lastCrop)  # Insert last crop at the beginning\n",
    "    return cropList\n",
    "\n",
    "cropNames = [\"lentil\", \"barly\", \"canola\", \"spring wheat\", \"durum wheat\", \"oats\"]\n",
    "rotatedCrops = rotateCrops(cropNames)\n",
    "print(rotatedCrops)"
   ]
  },
  {
   "cell_type": "markdown",
   "metadata": {},
   "source": [
    "# Exercise 8: Rainfall Analysis"
   ]
  },
  {
   "cell_type": "markdown",
   "metadata": {},
   "source": [
    "Create a function that takes a list of rainfall measurements (daily mm in a week) and returns the maximum and minimum rainfall values. Keys: min(), max(), lists, def"
   ]
  },
  {
   "cell_type": "code",
   "execution_count": 8,
   "metadata": {},
   "outputs": [
    {
     "name": "stdout",
     "output_type": "stream",
     "text": [
      "Max. rainfall: 9\n",
      "Min. rainfall: 1\n"
     ]
    }
   ],
   "source": [
    "#Function that returns max and min rainfall\n",
    "def retMaxMinRainfall(rainfallMeasurements):\n",
    "    maxRainfall = max(rainfallMeasurements)\n",
    "    minRainfall = min(rainfallMeasurements)\n",
    "    return maxRainfall, minRainfall\n",
    "\n",
    "rainfallList = [4, 5, 9, 3, 1, 3, 2] \n",
    "maxRainfall, minRainfall = retMaxMinRainfall(rainfallList)\n",
    "print(\"Max. rainfall:\", maxRainfall)\n",
    "print(\"Min. rainfall:\", minRainfall)"
   ]
  },
  {
   "cell_type": "markdown",
   "metadata": {},
   "source": [
    "## Exercise 9: Pest Control"
   ]
  },
  {
   "cell_type": "markdown",
   "metadata": {},
   "source": [
    "Create a function that takes the count of pests detected in a field and returns a recommendation for pest control based on the count. Please search for pests and pest control measures. Keys: if-else statement, def"
   ]
  },
  {
   "cell_type": "code",
   "execution_count": 9,
   "metadata": {},
   "outputs": [
    {
     "name": "stdout",
     "output_type": "stream",
     "text": [
      "Significant pest population detected. Immediate action may be necessary, including the use of chemical pest control methods. Consider seeking advice from a pest management provider.\n"
     ]
    }
   ],
   "source": [
    "#Recommend action based in pest count\n",
    "def pestRecommendation(pestCount):\n",
    "    if pestCount == 0:\n",
    "        return \"No action required.\"\n",
    "    elif pestCount <= 5:\n",
    "        return \"Low pest found. Keep a close eye on the situation.\"\n",
    "    elif pestCount <= 10:\n",
    "        return \"Moderate level of pests present. Explore implementing environmentally-friendly pest control solutions.\"\n",
    "    else:\n",
    "        return \"Significant pest population detected. Immediate action may be necessary, including the use of chemical pest control methods. Consider seeking advice from a pest management provider.\"\n",
    "\n",
    "pestCount = 12  # Example count of pests detected\n",
    "recommendation = pestRecommendation(pestCount)\n",
    "print(recommendation)"
   ]
  },
  {
   "cell_type": "markdown",
   "metadata": {},
   "source": [
    "## Exercise 10: Weed Control"
   ]
  },
  {
   "cell_type": "markdown",
   "metadata": {},
   "source": [
    "Create a function that takes a list of weed names (search online) and suggests appropriate herbicides for weed control. Keys: For Loops and dictionary."
   ]
  },
  {
   "cell_type": "code",
   "execution_count": 16,
   "metadata": {},
   "outputs": [
    {
     "name": "stdout",
     "output_type": "stream",
     "text": [
      "Weed Thistles, suggested herbicides: 2,4-D, Aminopyralid, Dicamba, Triclopyr\n",
      "Weed Sulfur, suggested herbicides: 2,4-D, Methsulfuron\n",
      "Weed Cheatgrass, suggested herbicides: Hexazinone, Imazapic, Sulfometuron methy\n",
      "Weed Toadflax, suggested herbicides: No recommendation found\n"
     ]
    }
   ],
   "source": [
    "#Function to get suggested herbicides\n",
    "def getHerbicides(weedNames):\n",
    "    herbDict = {\n",
    "        \"Thistles\": [\"2,4-D\", \"Aminopyralid\", \"Dicamba\", \"Triclopyr\"],\n",
    "        \"Sulfur\": [\"2,4-D\", \"Methsulfuron\"],\n",
    "        \"Cheatgrass\": [\"Hexazinone\", \"Imazapic\", \"Sulfometuron methy\"],\n",
    "    }\n",
    "    \n",
    "    herbSug = {}\n",
    "    for weed in weedNames:\n",
    "        if weed in herbDict:\n",
    "            herbSug[weed] = herbDict[weed]\n",
    "        else:\n",
    "            herbSug[weed] = [\"No recommendation found\"]\n",
    "\n",
    "    return herbSug\n",
    "\n",
    "\n",
    "# Example usage:\n",
    "weed_names = [\"Thistles\", \"Sulfur\", \"Cheatgrass\",\"Toadflax\"]\n",
    "herbicide_suggestions = getHerbicides(weed_names)\n",
    "for weed, herbicides in herbicide_suggestions.items():\n",
    "    print(f\"Weed {weed}, suggested herbicides: {', '.join(herbicides)}\")"
   ]
  },
  {
   "cell_type": "code",
   "execution_count": null,
   "metadata": {},
   "outputs": [],
   "source": []
  }
 ],
 "metadata": {
  "kernelspec": {
   "display_name": "Python 3 (ipykernel)",
   "language": "python",
   "name": "python3"
  },
  "language_info": {
   "codemirror_mode": {
    "name": "ipython",
    "version": 3
   },
   "file_extension": ".py",
   "mimetype": "text/x-python",
   "name": "python",
   "nbconvert_exporter": "python",
   "pygments_lexer": "ipython3",
   "version": "3.11.5"
  }
 },
 "nbformat": 4,
 "nbformat_minor": 2
}
